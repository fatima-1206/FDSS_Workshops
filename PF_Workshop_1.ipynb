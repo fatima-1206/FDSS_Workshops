{
 "cells": [
  {
   "cell_type": "markdown",
   "metadata": {},
   "source": [
    "[![Open In Colab](https://colab.research.google.com/assets/colab-badge.svg)](https://colab.research.google.com/github/fatima-1206/FDSS_Workshops/blob/main/PF_Workshop_1.ipynb)"
   ]
  },
  {
   "cell_type": "markdown",
   "metadata": {
    "id": "AbjO0d1mA5Re"
   },
   "source": [
    "# Functions and Variable Connectivity\n"
   ]
  },
  {
   "cell_type": "markdown",
   "metadata": {
    "id": "TknsbjaVB-_3"
   },
   "source": [
    "\n",
    "## Purpose and structure of user-defined functions.\n",
    "\n"
   ]
  },
  {
   "cell_type": "markdown",
   "metadata": {},
   "source": [
    "### Structure"
   ]
  },
  {
   "cell_type": "markdown",
   "metadata": {},
   "source": [
    "#### Structure of C++ User-Defined Functions\n",
    "\n",
    "A typical C++ user-defined function consists of:\n",
    "\n",
    "1. **Return Type**: Specifies the type of value the function returns (e.g., `int`, `double`, `void`).\n",
    "2. **Function Name**: The identifier used to call the function.\n",
    "3. **Parameter List**: Variables passed to the function, enclosed in parentheses.\n",
    "4. **Function Body**: Block of code enclosed in curly braces `{}` that defines what the function does.\n",
    "\n",
    "**Syntax Example:**\n",
    "```cpp\n",
    "return_type function_name(parameter_list) {\n",
    "    // function body\n",
    "    // optional return statement (if return types is not void)\n",
    "}\n",
    "```\n",
    "\n",
    "\n",
    "**Calling a Function:**\n",
    "To call a function, use its name followed by parentheses containing any required arguments.\n",
    "\n",
    "```cpp\n",
    "function_name(arguments);\n",
    "```"
   ]
  },
  {
   "cell_type": "markdown",
   "metadata": {},
   "source": [
    "#### Example"
   ]
  },
  {
   "cell_type": "code",
   "execution_count": null,
   "metadata": {
    "vscode": {
     "languageId": "python"
    }
   },
   "outputs": [
    {
     "name": "stdout",
     "output_type": "stream",
     "text": [
      "Adding 5 and 3\n",
      "Result: 8"
     ]
    },
    {
     "data": {
      "text/plain": [
       "@0x78cc565fcca0"
      ]
     },
     "execution_count": 145,
     "metadata": {},
     "output_type": "execute_result"
    }
   ],
   "source": [
    "// return type is int, function name is add, parameters are int a and int b\n",
    "\n",
    "int add(int a, int b) {\n",
    "    std::cout << \"Adding \"<< a <<\" and \" << b;\n",
    "    return a + b;\n",
    "}\n",
    "\n",
    "int result = add(5, 3); // Calling the function with arguments 5 and 3\n",
    "std::cout << \"\\nResult: \" << result; // This will print \"Result: 8\"\n",
    "\n"
   ]
  },
  {
   "cell_type": "markdown",
   "metadata": {},
   "source": [
    "### Prototypes"
   ]
  },
  {
   "cell_type": "code",
   "execution_count": null,
   "metadata": {
    "vscode": {
     "languageId": "python"
    }
   },
   "outputs": [],
   "source": []
  },
  {
   "cell_type": "markdown",
   "metadata": {},
   "source": [
    "### Purpose"
   ]
  },
  {
   "cell_type": "markdown",
   "metadata": {},
   "source": [
    "User-defined functions allow programmers to organize code into reusable, logical blocks. They help:\n",
    "\n",
    "- **Reduce repetition**: Common tasks can be written once and called multiple times.\n",
    "\n",
    "- **Improve readability**: Code is easier to understand when broken into named functions.\n",
    "\n",
    "- **Simplify debugging**: Isolating functionality makes it easier to test and fix issues.\n",
    "\n",
    "- **Enable modularity**: Functions can be reused in different parts of a program or in other projects.\n",
    "\n",
    "\n",
    "In summary, user-defined functions make code more efficient, maintainable, and scalable.\n",
    "\n",
    "See examples illustrating the points below :)"
   ]
  },
  {
   "cell_type": "markdown",
   "metadata": {},
   "source": [
    "#### Repetition "
   ]
  },
  {
   "cell_type": "code",
   "execution_count": null,
   "metadata": {
    "vscode": {
     "languageId": "python"
    }
   },
   "outputs": [
    {
     "name": "stdout",
     "output_type": "stream",
     "text": [
      "*\n",
      "**\n",
      "***\n",
      "\n",
      "*\n",
      "**\n",
      "***\n",
      "****\n",
      "*****\n",
      "\n",
      "*\n",
      "**\n",
      "***\n",
      "****\n",
      "*****\n",
      "******\n",
      "*******\n",
      "*\n",
      "**\n",
      "***\n",
      "****\n",
      "*****\n",
      "******\n",
      "*******\n",
      "********\n",
      "*********\n"
     ]
    }
   ],
   "source": [
    "\n",
    "// Pattern 1\n",
    "for (int i = 1; i < 4; ++i) {\n",
    "    for (int j = 0; j < i; ++j)\n",
    "        std::cout << \"*\";\n",
    "    std::cout << \"\\n\";\n",
    "}\n",
    "\n",
    "std::cout << \"\\n\"; // space between patterns\n",
    "\n",
    "// Pattern 2\n",
    "for (int i = 1; i < 6; ++i) {\n",
    "    for (int j = 0; j < i; ++j)\n",
    "        std::cout << \"*\";\n",
    "    std::cout << \"\\n\";\n",
    "}\n",
    "\n",
    "std::cout << \"\\n\";\n",
    "\n",
    "// Pattern 3\n",
    "for (int i = 1; i < 8; ++i) {\n",
    "    for (int j = 0; j < i; ++j)\n",
    "        std::cout << \"*\";\n",
    "    std::cout << \"\\n\";\n",
    "}\n",
    "\n",
    "\n",
    "// Pattern 4\n",
    "for (int i = 1; i < 10; ++i) {\n",
    "    for (int j = 0; j < i; ++j)\n",
    "        std::cout << \"*\";\n",
    "    std::cout << \"\\n\";\n",
    "}"
   ]
  },
  {
   "cell_type": "markdown",
   "metadata": {},
   "source": [
    "What will you do if you have to print 50 triangles?"
   ]
  },
  {
   "cell_type": "code",
   "execution_count": null,
   "metadata": {
    "vscode": {
     "languageId": "python"
    }
   },
   "outputs": [
    {
     "name": "stdout",
     "output_type": "stream",
     "text": [
      "*\n",
      "*\n",
      "**\n",
      "*\n",
      "**\n",
      "***\n",
      "*\n",
      "**\n",
      "***\n",
      "****\n",
      "*\n",
      "**\n",
      "***\n",
      "****\n",
      "*****\n",
      "*\n",
      "**\n",
      "***\n",
      "****\n",
      "*****\n",
      "******\n",
      "*\n",
      "**\n",
      "***\n",
      "****\n",
      "*****\n",
      "******\n",
      "*******\n",
      "*\n",
      "**\n",
      "***\n",
      "****\n",
      "*****\n",
      "******\n",
      "*******\n",
      "********\n",
      "*\n",
      "**\n",
      "***\n",
      "****\n",
      "*****\n",
      "******\n",
      "*******\n",
      "********\n",
      "*********\n",
      "*\n",
      "**\n",
      "***\n",
      "****\n",
      "*****\n",
      "******\n",
      "*******\n",
      "********\n",
      "*********\n",
      "**********\n"
     ]
    }
   ],
   "source": [
    "void printPattern(int n) {\n",
    "    for (int i = 1; i <= n; ++i) {\n",
    "        for (int j = 0; j < i; ++j)\n",
    "            std::cout << \"*\";\n",
    "        std::cout << \"\\n\";\n",
    "    }\n",
    "}\n",
    "\n",
    "for (int i = 1; i <= 10; ++i)\n",
    "    printPattern(i);\n",
    "\n"
   ]
  },
  {
   "cell_type": "markdown",
   "metadata": {},
   "source": [
    "#### Readibility\n"
   ]
  },
  {
   "cell_type": "code",
   "execution_count": null,
   "metadata": {
    "vscode": {
     "languageId": "python"
    }
   },
   "outputs": [
    {
     "name": "stdout",
     "output_type": "stream",
     "text": [
      " #  #  #  #  #  #  #  #  #  #  #  #  #  #  #  #  #  #  #  #  #  #  #  # \n",
      " _  _  _  #  #  #  _  _  _  #  #  #  _  _  _  #  #  #  _  _  _  #  #  # \n",
      " _  _  _  #  #  #  _  _  _  #  #  #  _  _  _  #  #  #  _  _  _  #  #  # \n",
      " _  _  _  #  #  #  _  _  _  #  #  #  _  _  _  #  #  #  _  _  _  #  #  # \n",
      " #  #  #  _  _  _  #  #  #  _  _  _  #  #  #  _  _  _  #  #  #  _  _  _ \n",
      " #  #  #  _  _  _  #  #  #  _  _  _  #  #  #  _  _  _  #  #  #  _  _  _ \n",
      " #  #  #  _  _  _  #  #  #  _  _  _  #  #  #  _  _  _  #  #  #  _  _  _ \n",
      " _  _  _  #  #  #  _  _  _  #  #  #  _  _  _  #  #  #  _  _  _  #  #  # \n",
      " _  _  _  #  #  #  _  _  _  #  #  #  _  _  _  #  #  #  _  _  _  #  #  # \n",
      " _  _  _  #  #  #  _  _  _  #  #  #  _  _  _  #  #  #  _  _  _  #  #  # \n",
      " #  #  #  _  _  _  #  #  #  _  _  _  #  #  #  _  _  _  #  #  #  _  _  _ \n",
      " #  #  #  _  _  _  #  #  #  _  _  _  #  #  #  _  _  _  #  #  #  _  _  _ \n",
      " #  #  #  _  _  _  #  #  #  _  _  _  #  #  #  _  _  _  #  #  #  _  _  _ \n",
      " _  _  _  #  #  #  _  _  _  #  #  #  _  _  _  #  #  #  _  _  _  #  #  # \n",
      " _  _  _  #  #  #  _  _  _  #  #  #  _  _  _  #  #  #  _  _  _  #  #  # \n",
      " _  _  _  #  #  #  _  _  _  #  #  #  _  _  _  #  #  #  _  _  _  #  #  # \n",
      " #  #  #  _  _  _  #  #  #  _  _  _  #  #  #  _  _  _  #  #  #  _  _  _ \n",
      " #  #  #  _  _  _  #  #  #  _  _  _  #  #  #  _  _  _  #  #  #  _  _  _ \n",
      " #  #  #  _  _  _  #  #  #  _  _  _  #  #  #  _  _  _  #  #  #  _  _  _ \n",
      " _  _  _  #  #  #  _  _  _  #  #  #  _  _  _  #  #  #  _  _  _  #  #  # \n",
      " _  _  _  #  #  #  _  _  _  #  #  #  _  _  _  #  #  #  _  _  _  #  #  # \n",
      " _  _  _  #  #  #  _  _  _  #  #  #  _  _  _  #  #  #  _  _  _  #  #  # \n",
      " #  #  #  _  _  _  #  #  #  _  _  _  #  #  #  _  _  _  #  #  #  _  _  _ \n",
      " #  #  #  _  _  _  #  #  #  _  _  _  #  #  #  _  _  _  #  #  #  _  _  _ \n",
      " #  #  #  _  _  _  #  #  #  _  _  _  #  #  #  _  _  _  #  #  #  _  _  _ \n",
      " #  #  #  #  #  #  #  #  #  #  #  #  #  #  #  #  #  #  #  #  #  #  #  # \n"
     ]
    }
   ],
   "source": [
    "\n",
    "int size = 8; // chessboard size\n",
    "int n = 3;    // cell size (number of lines and columns per cell)\n",
    "char black = '#'; // character for black cell\n",
    "char white = '_'; // character for white cell\n",
    "for (int i = 0; i < size; i++){\n",
    "    // check if it's the first line of the board or the last one then print a border first\n",
    "    if (i == 0 ) {\n",
    "        for (int j = 0; j < size; j++) {\n",
    "            for (int l = 0; l < n; l++) {\n",
    "                std::cout << \" \" << black << \" \";\n",
    "            }\n",
    "        }\n",
    "        std::cout << \"\\n\";\n",
    "    }\n",
    "    for (int k = 0; k < n; k++){ // repeat each line n times\n",
    "        for (int j = 0; j < size; j++){\n",
    "            for (int l = 0; l < n; l++){ // print each cell n times\n",
    "                if ((i + j) % 2 == 0)\n",
    "                    std::cout << \" \" << white << \" \"; // white cell\n",
    "                else\n",
    "                    std::cout << \" \" << black << \" \"; // black cell\n",
    "            }\n",
    "        }\n",
    "        std::cout << \"\\n\"; // new line after each row of cells\n",
    "    }\n",
    "    if (i == size - 1) { // if it's the last line of the board print a border\n",
    "        for (int j = 0; j < size; j++) {\n",
    "            for (int l = 0; l < n; l++) {\n",
    "                std::cout << \" \" << black << \" \";\n",
    "            }\n",
    "        }\n",
    "        std::cout << \"\\n\";\n",
    "    }\n",
    "}\n",
    "\n",
    "\n"
   ]
  },
  {
   "cell_type": "markdown",
   "metadata": {},
   "source": [
    "Works but changing anything is painful :("
   ]
  },
  {
   "cell_type": "markdown",
   "metadata": {},
   "source": [
    "#### VS modular code"
   ]
  },
  {
   "cell_type": "code",
   "execution_count": null,
   "metadata": {
    "vscode": {
     "languageId": "python"
    }
   },
   "outputs": [],
   "source": [
    "\n",
    "void print_line(int size, int n, char s, char e) {\n",
    "    for (int i = 0; i < size; i++) {\n",
    "        if (i%2 == 0)\n",
    "            for (int j = 0; j < n; j++)\n",
    "                std::cout << \" \" << s << \" \";\n",
    "        else\n",
    "            for (int j = 0; j < n; j++)\n",
    "                std::cout << \" \" << e << \" \";\n",
    "    }\n",
    "    std::cout << \"\\n\";\n",
    "\n",
    "}"
   ]
  },
  {
   "cell_type": "code",
   "execution_count": null,
   "metadata": {
    "vscode": {
     "languageId": "python"
    }
   },
   "outputs": [
    {
     "name": "stdout",
     "output_type": "stream",
     "text": [
      " #  #  #  _  _  _  #  #  #  _  _  _  #  #  #  _  _  _  #  #  #  _  _  _ \n"
     ]
    }
   ],
   "source": [
    "print_line(8, 3, '#', '_'); // print a line with 8 boxes, each box of size 3, starting with '#' and ending with '_'"
   ]
  },
  {
   "cell_type": "code",
   "execution_count": null,
   "metadata": {
    "vscode": {
     "languageId": "python"
    }
   },
   "outputs": [],
   "source": [
    "void print_row(int size, int n, char start, char end) {\n",
    "    for (int i = 0; i < n; i++) {\n",
    "        print_line(size, n, start, end);\n",
    "    }\n",
    "}"
   ]
  },
  {
   "cell_type": "code",
   "execution_count": null,
   "metadata": {
    "vscode": {
     "languageId": "python"
    }
   },
   "outputs": [
    {
     "name": "stdout",
     "output_type": "stream",
     "text": [
      " #  #  #  _  _  _  #  #  #  _  _  _  #  #  #  _  _  _  #  #  #  _  _  _ \n",
      " #  #  #  _  _  _  #  #  #  _  _  _  #  #  #  _  _  _  #  #  #  _  _  _ \n",
      " #  #  #  _  _  _  #  #  #  _  _  _  #  #  #  _  _  _  #  #  #  _  _  _ \n"
     ]
    }
   ],
   "source": [
    "print_row(8, 3, '#', '_'); // print a row with 8 boxes, each box of size 3, starting with '#' and ending with '_'"
   ]
  },
  {
   "cell_type": "code",
   "execution_count": null,
   "metadata": {
    "vscode": {
     "languageId": "python"
    }
   },
   "outputs": [],
   "source": []
  },
  {
   "cell_type": "code",
   "execution_count": null,
   "metadata": {
    "vscode": {
     "languageId": "python"
    }
   },
   "outputs": [],
   "source": [
    "\n",
    "void print_chessboard(int size, int n, char black, char white) {\n",
    "\n",
    "    for (int i = 0; i < size; i++){\n",
    "        if (i == 0 ) print_line(size, n, black, black);\n",
    "\n",
    "        if (i % 2 == 0) print_row(size, n, white, black);\n",
    "        else print_row(size, n, black, white);\n",
    "\n",
    "        if (i == size - 1) print_line(size, n, black, black);   \n",
    "    }\n",
    "}\n"
   ]
  },
  {
   "cell_type": "code",
   "execution_count": null,
   "metadata": {
    "vscode": {
     "languageId": "python"
    }
   },
   "outputs": [
    {
     "name": "stdout",
     "output_type": "stream",
     "text": [
      " #  #  #  #  #  #  #  #  # \n",
      " _  _  _  #  #  #  _  _  _ \n",
      " _  _  _  #  #  #  _  _  _ \n",
      " _  _  _  #  #  #  _  _  _ \n",
      " #  #  #  _  _  _  #  #  # \n",
      " #  #  #  _  _  _  #  #  # \n",
      " #  #  #  _  _  _  #  #  # \n",
      " _  _  _  #  #  #  _  _  _ \n",
      " _  _  _  #  #  #  _  _  _ \n",
      " _  _  _  #  #  #  _  _  _ \n",
      " #  #  #  #  #  #  #  #  # \n"
     ]
    }
   ],
   "source": [
    "print_chessboard(3, 3, '#', '_'); // print a chessboard of size 8x8 with each cell of size 3x3 using '#' for black and '_' for white"
   ]
  },
  {
   "cell_type": "markdown",
   "metadata": {},
   "source": [
    "No need need to remeber the entire logic if I need to change it in the future @.@"
   ]
  },
  {
   "cell_type": "markdown",
   "metadata": {},
   "source": [
    "Super easy to change anything via parameters and modularized logic"
   ]
  },
  {
   "cell_type": "code",
   "execution_count": null,
   "metadata": {
    "vscode": {
     "languageId": "python"
    }
   },
   "outputs": [
    {
     "name": "stdout",
     "output_type": "stream",
     "text": [
      " $  $  $  $  $  $  $  $  $  $  $  $  $  $  $ \n",
      "          $  $  $           $  $  $          \n",
      "          $  $  $           $  $  $          \n",
      "          $  $  $           $  $  $          \n",
      " $  $  $           $  $  $           $  $  $ \n",
      " $  $  $           $  $  $           $  $  $ \n",
      " $  $  $           $  $  $           $  $  $ \n",
      "          $  $  $           $  $  $          \n",
      "          $  $  $           $  $  $          \n",
      "          $  $  $           $  $  $          \n",
      " $  $  $           $  $  $           $  $  $ \n",
      " $  $  $           $  $  $           $  $  $ \n",
      " $  $  $           $  $  $           $  $  $ \n",
      "          $  $  $           $  $  $          \n",
      "          $  $  $           $  $  $          \n",
      "          $  $  $           $  $  $          \n",
      " $  $  $  $  $  $  $  $  $  $  $  $  $  $  $ \n"
     ]
    }
   ],
   "source": [
    "print_chessboard(5, 3, '$', ' '); // print a chessboard of size 9x9 with each cell of size 3x3 using '~' for black and ' ' for white"
   ]
  },
  {
   "cell_type": "code",
   "execution_count": null,
   "metadata": {
    "vscode": {
     "languageId": "python"
    }
   },
   "outputs": [
    {
     "name": "stdout",
     "output_type": "stream",
     "text": [
      " :  :  :  :  :  :  :  :  :  :  :  :  :  :  :  :  :  :  :  :  :  :  :  :  : \n",
      " )  )  )  )  )  :  :  :  :  :  )  )  )  )  )  :  :  :  :  :  )  )  )  )  ) \n",
      " )  )  )  )  )  :  :  :  :  :  )  )  )  )  )  :  :  :  :  :  )  )  )  )  ) \n",
      " )  )  )  )  )  :  :  :  :  :  )  )  )  )  )  :  :  :  :  :  )  )  )  )  ) \n",
      " )  )  )  )  )  :  :  :  :  :  )  )  )  )  )  :  :  :  :  :  )  )  )  )  ) \n",
      " )  )  )  )  )  :  :  :  :  :  )  )  )  )  )  :  :  :  :  :  )  )  )  )  ) \n",
      " :  :  :  :  :  )  )  )  )  )  :  :  :  :  :  )  )  )  )  )  :  :  :  :  : \n",
      " :  :  :  :  :  )  )  )  )  )  :  :  :  :  :  )  )  )  )  )  :  :  :  :  : \n",
      " :  :  :  :  :  )  )  )  )  )  :  :  :  :  :  )  )  )  )  )  :  :  :  :  : \n",
      " :  :  :  :  :  )  )  )  )  )  :  :  :  :  :  )  )  )  )  )  :  :  :  :  : \n",
      " :  :  :  :  :  )  )  )  )  )  :  :  :  :  :  )  )  )  )  )  :  :  :  :  : \n",
      " )  )  )  )  )  :  :  :  :  :  )  )  )  )  )  :  :  :  :  :  )  )  )  )  ) \n",
      " )  )  )  )  )  :  :  :  :  :  )  )  )  )  )  :  :  :  :  :  )  )  )  )  ) \n",
      " )  )  )  )  )  :  :  :  :  :  )  )  )  )  )  :  :  :  :  :  )  )  )  )  ) \n",
      " )  )  )  )  )  :  :  :  :  :  )  )  )  )  )  :  :  :  :  :  )  )  )  )  ) \n",
      " )  )  )  )  )  :  :  :  :  :  )  )  )  )  )  :  :  :  :  :  )  )  )  )  ) \n",
      " :  :  :  :  :  )  )  )  )  )  :  :  :  :  :  )  )  )  )  )  :  :  :  :  : \n",
      " :  :  :  :  :  )  )  )  )  )  :  :  :  :  :  )  )  )  )  )  :  :  :  :  : \n",
      " :  :  :  :  :  )  )  )  )  )  :  :  :  :  :  )  )  )  )  )  :  :  :  :  : \n",
      " :  :  :  :  :  )  )  )  )  )  :  :  :  :  :  )  )  )  )  )  :  :  :  :  : \n",
      " :  :  :  :  :  )  )  )  )  )  :  :  :  :  :  )  )  )  )  )  :  :  :  :  : \n",
      " )  )  )  )  )  :  :  :  :  :  )  )  )  )  )  :  :  :  :  :  )  )  )  )  ) \n",
      " )  )  )  )  )  :  :  :  :  :  )  )  )  )  )  :  :  :  :  :  )  )  )  )  ) \n",
      " )  )  )  )  )  :  :  :  :  :  )  )  )  )  )  :  :  :  :  :  )  )  )  )  ) \n",
      " )  )  )  )  )  :  :  :  :  :  )  )  )  )  )  :  :  :  :  :  )  )  )  )  ) \n",
      " )  )  )  )  )  :  :  :  :  :  )  )  )  )  )  :  :  :  :  :  )  )  )  )  ) \n",
      " :  :  :  :  :  :  :  :  :  :  :  :  :  :  :  :  :  :  :  :  :  :  :  :  : \n"
     ]
    }
   ],
   "source": [
    "print_chessboard(5, 5, ':', ')'); // print a chessboard of size 10x10 with each cell of size 3x3 using ':' for black and 'D' for white"
   ]
  },
  {
   "cell_type": "markdown",
   "metadata": {},
   "source": [
    "#### Challange: \n",
    "\n",
    "Modify above code so the eyes and mouth can be together \n",
    "\n",
    "i.e\n",
    "\n",
    "instead of ` :  )`,\n",
    "\n",
    "it should print `:)` where black and white meet\n",
    "\n",
    "- You must do this by adding another paramter not by changing the logic\n",
    "\n",
    "- You should be able to switch between `:  )` and `:)` based on the parameter"
   ]
  },
  {
   "cell_type": "markdown",
   "metadata": {
    "id": "9EgBW1QKCBFd"
   },
   "source": [
    "## Function calling, parameter passing, and return types.\n"
   ]
  },
  {
   "cell_type": "markdown",
   "metadata": {},
   "source": [
    "### Function Calling"
   ]
  },
  {
   "cell_type": "markdown",
   "metadata": {},
   "source": [
    "- Where to call the function? \n",
    "\n",
    "- Where can't you call a function?\n",
    "\n",
    "- Ways to call a function?\n",
    "\n",
    "- ✨ Manifesting Errors ✨\n",
    "\n"
   ]
  },
  {
   "cell_type": "markdown",
   "metadata": {},
   "source": [
    "##### Where to call a function safely?\n",
    "\n",
    "- inside main?\n",
    "- outside main?\n",
    "- inside a function?\n",
    "- outside functions?\n",
    "- within function calls?\n",
    "- anywhere something of it's return type can be written?"
   ]
  },
  {
   "cell_type": "code",
   "execution_count": null,
   "metadata": {
    "vscode": {
     "languageId": "python"
    }
   },
   "outputs": [],
   "source": [
    "#include <iostream>\n",
    "\n",
    "void my_function() {\n",
    "    std::cout << \"This is my function! \\n\";\n",
    "    my_function(); // Recursive call\n",
    "}\n"
   ]
  },
  {
   "cell_type": "code",
   "execution_count": null,
   "metadata": {
    "vscode": {
     "languageId": "python"
    }
   },
   "outputs": [
    {
     "data": {
      "text/plain": [
       "10"
      ]
     },
     "execution_count": 5,
     "metadata": {},
     "output_type": "execute_result"
    }
   ],
   "source": [
    "#include <iostream>\n",
    "int fun(int a){\n",
    "    return a+a;\n",
    "}\n",
    "fun(5); // Call the function to see the output"
   ]
  },
  {
   "cell_type": "code",
   "execution_count": null,
   "metadata": {
    "vscode": {
     "languageId": "python"
    }
   },
   "outputs": [
    {
     "name": "stdout",
     "output_type": "stream",
     "text": [
      "8"
     ]
    }
   ],
   "source": [
    "std::cout << fun(fun(fun(4%3)));"
   ]
  },
  {
   "cell_type": "markdown",
   "metadata": {},
   "source": [
    "##### How to get errors?\n",
    "- Call a function before it's declared\n",
    "- Call a function outside main \n",
    "- Pass wrong parameters\n",
    "- Outside global scope\n",
    "- Infinite recursion (never returns)\n",
    "- Runtime errors"
   ]
  },
  {
   "cell_type": "markdown",
   "metadata": {},
   "source": [
    "### Parameter Passing"
   ]
  },
  {
   "cell_type": "markdown",
   "metadata": {},
   "source": [
    "#### Three Major ways to pass parameters:\n"
   ]
  },
  {
   "cell_type": "markdown",
   "metadata": {},
   "source": [
    "- Value\n",
    "\n",
    "- Reference\n",
    "\n",
    "- Pointer\n",
    "\n",
    "- Default values\n",
    "\n",
    "- cont variables \n",
    "\n",
    "<!-- Can't modify a const reference -->"
   ]
  },
  {
   "cell_type": "code",
   "execution_count": null,
   "metadata": {
    "vscode": {
     "languageId": "python"
    }
   },
   "outputs": [
    {
     "name": "stderr",
     "output_type": "stream",
     "text": [
      "input_line_20:2:14: warning: empty parentheses interpreted as a function declaration [-Wvexing-parse]\n",
      " int function()...\n",
      "             ^~\n",
      "input_line_20:2:14: note: replace parentheses with an initializer to declare a variable\n",
      " int function()...\n",
      "             ^~\n",
      "              = 0\n",
      "input_line_20:2:16: error: expected ';' at end of declaration\n",
      " int function()...\n",
      "               ^\n",
      "               ;\n"
     ]
    },
    {
     "ename": "Interpreter Error",
     "evalue": "",
     "output_type": "error",
     "traceback": [
      "Interpreter Error: "
     ]
    }
   ],
   "source": [
    "int function()...\n",
    "int* function()...\n",
    "int& function()...\n",
    "void function()...\n",
    "bool function()...\n",
    "float function()...\n",
    "char function()...\n",
    "double function()...\n",
    "long function()...\n",
    "short function()...\n",
    "unsigned <smth> function()...\n",
    "struct function()..."
   ]
  },
  {
   "cell_type": "markdown",
   "metadata": {
    "id": "kwB_hnSACCki"
   },
   "source": [
    "\n",
    "## Scope and lifetime of variables inside and outside functions.\n"
   ]
  },
  {
   "cell_type": "markdown",
   "metadata": {},
   "source": [
    "What makes this invalid?"
   ]
  },
  {
   "cell_type": "code",
   "execution_count": null,
   "metadata": {
    "vscode": {
     "languageId": "python"
    }
   },
   "outputs": [],
   "source": [
    "int& a_function(int a){\n",
    "    int n = a + 5;\n",
    "    return n;\n",
    "}"
   ]
  },
  {
   "cell_type": "markdown",
   "metadata": {},
   "source": [
    "### Rule of Thumb: \n",
    "\n",
    "\n",
    "1. A variable lives only inside the scope/curly braces { } where it was created.\n",
    "\n",
    "    When the scope is destroyed, so are the variables inside it.\n",
    "\n",
    "2. Outer variables can be accessed inside inner blocks.\n",
    "    \n",
    "    Inner variables cannot be accesssed outside."
   ]
  },
  {
   "cell_type": "markdown",
   "metadata": {},
   "source": [
    "### Exceptions"
   ]
  },
  {
   "cell_type": "markdown",
   "metadata": {},
   "source": [
    "Scope resolution Operator\n",
    "\n",
    "Shadowing variables\n",
    "\n",
    "Static Variables\n",
    "\n",
    "some other... but for now focus on these"
   ]
  },
  {
   "cell_type": "markdown",
   "metadata": {},
   "source": [
    "Shadowing\n"
   ]
  },
  {
   "cell_type": "code",
   "execution_count": null,
   "metadata": {},
   "outputs": [],
   "source": [
    "#include <iostream>\n",
    "using namespace std;\n",
    "\n",
    "int x = 10; // Global\n",
    "\n",
    "void show() {\n",
    "    int x = 20; // Shadows global x\n",
    "    cout << x;  // prints 20\n",
    "}\n",
    "\n",
    "int main() {\n",
    "    show();\n",
    "    cout << \"\\n\" << x; // prints 10 (global one)\n",
    "}\n"
   ]
  },
  {
   "cell_type": "markdown",
   "metadata": {},
   "source": [
    "Static Variables"
   ]
  },
  {
   "cell_type": "code",
   "execution_count": 7,
   "metadata": {},
   "outputs": [],
   "source": [
    "#include <iostream>\n",
    "int globalCounter = 0;\n"
   ]
  },
  {
   "cell_type": "code",
   "execution_count": 8,
   "metadata": {},
   "outputs": [],
   "source": [
    "\n",
    "void demo() {\n",
    "    static int staticCounter = 0;\n",
    "    globalCounter++;\n",
    "    staticCounter++;\n",
    "    std::cout << \"Global: \" << globalCounter \n",
    "         << \" | Static: \" << staticCounter << \"\\n\";\n",
    "}\n"
   ]
  },
  {
   "cell_type": "code",
   "execution_count": 9,
   "metadata": {},
   "outputs": [
    {
     "name": "stdout",
     "output_type": "stream",
     "text": [
      "Global: 1 | Static: 1\n",
      "Global: 2 | Static: 2\n",
      "Global: 3 | Static: 3\n"
     ]
    }
   ],
   "source": [
    "\n",
    "demo();\n",
    "demo();\n",
    "demo();\n"
   ]
  },
  {
   "cell_type": "markdown",
   "metadata": {},
   "source": [
    "Scope Resolution Operator"
   ]
  },
  {
   "cell_type": "code",
   "execution_count": 13,
   "metadata": {},
   "outputs": [],
   "source": [
    "#include <iostream>\n",
    "using namespace std;\n",
    "\n",
    "int value = 10; // Global variable\n",
    "\n"
   ]
  },
  {
   "cell_type": "code",
   "execution_count": 14,
   "metadata": {},
   "outputs": [],
   "source": [
    "\n",
    "void main1() {\n",
    "    int value = 5; // Local variable (shadows the global one)\n",
    "    cout << value << endl;     // prints 5 (local)\n",
    "    cout << ::value << endl;   // prints 10 (global)\n",
    "}"
   ]
  },
  {
   "cell_type": "code",
   "execution_count": 16,
   "metadata": {},
   "outputs": [
    {
     "name": "stdout",
     "output_type": "stream",
     "text": [
      "5\n",
      "10\n"
     ]
    }
   ],
   "source": [
    "main1();"
   ]
  },
  {
   "cell_type": "markdown",
   "metadata": {},
   "source": [
    "## Bonus: Documenting Functions"
   ]
  },
  {
   "cell_type": "code",
   "execution_count": null,
   "metadata": {
    "vscode": {
     "languageId": "cpp"
    }
   },
   "outputs": [],
   "source": [
    "/**\n",
    " * @brief A useless function that adds 5 to the input integer and returns the result.\n",
    " * \n",
    " * @param a and input integer\n",
    " * @return int - returns a + 5\n",
    " */\n",
    "int a_useless_function(int a){\n",
    "    int n = a + 5;\n",
    "    return n;\n",
    "}\n"
   ]
  },
  {
   "cell_type": "code",
   "execution_count": null,
   "metadata": {},
   "outputs": [],
   "source": []
  }
 ],
 "metadata": {
  "colab": {
   "provenance": []
  },
  "kernelspec": {
   "display_name": "C++11",
   "language": "C++11",
   "name": "xcpp11"
  },
  "language_info": {
   "codemirror_mode": "text/x-c++src",
   "file_extension": ".cpp",
   "mimetype": "text/x-c++src",
   "name": "c++",
   "version": "11"
  }
 },
 "nbformat": 4,
 "nbformat_minor": 0
}
