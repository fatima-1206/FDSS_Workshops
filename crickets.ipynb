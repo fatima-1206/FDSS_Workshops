{
 "cells": [
  {
   "cell_type": "markdown",
   "id": "84cdd20f",
   "metadata": {},
   "source": [
    "# Secret function"
   ]
  },
  {
   "cell_type": "code",
   "execution_count": 2,
   "id": "c79e35ad",
   "metadata": {
    "vscode": {
     "languageId": "cpp"
    }
   },
   "outputs": [],
   "source": [
    "#include <iostream>\n",
    "void print_crickets(int n = 3){\n",
    "    for(int i = 0; i < n; i++)\n",
    "        std::cout << \"🦗 \";\n",
    "}\n"
   ]
  },
  {
   "cell_type": "code",
   "execution_count": 3,
   "id": "b3741542",
   "metadata": {
    "vscode": {
     "languageId": "cpp"
    }
   },
   "outputs": [
    {
     "name": "stdout",
     "output_type": "stream",
     "text": [
      "🦗 🦗 🦗 "
     ]
    }
   ],
   "source": [
    "print_crickets();"
   ]
  }
 ],
 "metadata": {
  "kernelspec": {
   "display_name": "C++17",
   "language": "C++17",
   "name": "xcpp17"
  },
  "language_info": {
   "codemirror_mode": "text/x-c++src",
   "file_extension": ".cpp",
   "mimetype": "text/x-c++src",
   "name": "c++",
   "version": "17"
  }
 },
 "nbformat": 4,
 "nbformat_minor": 5
}
